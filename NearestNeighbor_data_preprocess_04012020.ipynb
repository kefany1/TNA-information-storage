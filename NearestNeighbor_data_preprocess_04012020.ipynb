{
 "cells": [
  {
   "cell_type": "code",
   "execution_count": 1,
   "metadata": {},
   "outputs": [],
   "source": [
    "import pandas as pd\n",
    "import numpy as np\n",
    "import matplotlib.pyplot as plt"
   ]
  },
  {
   "cell_type": "code",
   "execution_count": 3,
   "metadata": {},
   "outputs": [],
   "source": [
    "RSGA = pd.read_csv('/Users/kefanyang/Desktop/NearestNeighbor/KOD_RSGA_041020.csv')"
   ]
  },
  {
   "cell_type": "code",
   "execution_count": 4,
   "metadata": {},
   "outputs": [
    {
     "data": {
      "text/plain": [
       "<bound method NDFrame.head of      Position Name base FWD_NN BWD_NN  Coverage  G->C  Unnamed: 7\n",
       "0          21   T1    A    SDT      A         2   NaN         NaN\n",
       "1          22   T1    A      A      C         2   NaN         NaN\n",
       "2          23   T1    C      A      A         2   NaN         NaN\n",
       "3          24   T1    A      C      C         2   NaN         NaN\n",
       "4          25   T1    C      A      A         2   NaN         NaN\n",
       "..        ...  ...  ...    ...    ...       ...   ...         ...\n",
       "683        59  T16    A      C      G         3   NaN         NaN\n",
       "684        60  T16    G      A      A         3   NaN         NaN\n",
       "685        61  T16    A      G      T         3   NaN         NaN\n",
       "686        62  T16    T      A      G         3   NaN         NaN\n",
       "687        63  T16    G      T    END         3   NaN         NaN\n",
       "\n",
       "[688 rows x 8 columns]>"
      ]
     },
     "execution_count": 4,
     "metadata": {},
     "output_type": "execute_result"
    }
   ],
   "source": [
    "RSGA.head"
   ]
  },
  {
   "cell_type": "code",
   "execution_count": 5,
   "metadata": {},
   "outputs": [
    {
     "data": {
      "text/plain": [
       "0        A\n",
       "1        C\n",
       "2        A\n",
       "3        C\n",
       "4        A\n",
       "      ... \n",
       "683      G\n",
       "684      A\n",
       "685      T\n",
       "686      G\n",
       "687    END\n",
       "Name: BWD_NN, Length: 688, dtype: object"
      ]
     },
     "execution_count": 5,
     "metadata": {},
     "output_type": "execute_result"
    }
   ],
   "source": [
    "RSGA['combined'] = P4['FWD_NN'].astype(str) + P4['base'].astype(str) + P4['BWD_NN'].astype(str)\n",
    "RSGA.pop('Name')\n",
    "RSGA.pop('Position')\n",
    "RSGA.pop('base')\n",
    "RSGA.pop('FWD_NN')\n",
    "RSGA.pop('BWD_NN')"
   ]
  },
  {
   "cell_type": "code",
   "execution_count": 6,
   "metadata": {},
   "outputs": [
    {
     "data": {
      "text/plain": [
       "<bound method NDFrame.head of      Coverage  G->C  Unnamed: 7 combined\n",
       "0           2   NaN         NaN    SDTAA\n",
       "1           2   NaN         NaN      AAC\n",
       "2           2   NaN         NaN      ACA\n",
       "3           2   NaN         NaN      CAC\n",
       "4           2   NaN         NaN      ACA\n",
       "..        ...   ...         ...      ...\n",
       "683         3   NaN         NaN      CAG\n",
       "684         3   NaN         NaN      AGA\n",
       "685         3   NaN         NaN      GAT\n",
       "686         3   NaN         NaN      ATG\n",
       "687         3   NaN         NaN    TGEND\n",
       "\n",
       "[688 rows x 4 columns]>"
      ]
     },
     "execution_count": 6,
     "metadata": {},
     "output_type": "execute_result"
    }
   ],
   "source": [
    "RSGA.head"
   ]
  },
  {
   "cell_type": "code",
   "execution_count": 7,
   "metadata": {
    "scrolled": false
   },
   "outputs": [],
   "source": [
    "RSGA_grouped = RSGA.groupby('combined').sum()"
   ]
  },
  {
   "cell_type": "code",
   "execution_count": 8,
   "metadata": {},
   "outputs": [],
   "source": [
    "RSGA_grouped.to_csv('/Users/kefanyang/Desktop/NearestNeighbor/RSGA_preprocessed_041020.csv')"
   ]
  },
  {
   "cell_type": "code",
   "execution_count": 9,
   "metadata": {
    "scrolled": true
   },
   "outputs": [
    {
     "data": {
      "text/plain": [
       "<bound method NDFrame.head of           Coverage  G->C  Unnamed: 7\n",
       "combined                            \n",
       "AAA            102   0.0         0.0\n",
       "AAC            143   0.0         0.0\n",
       "AAG             20   0.0         0.0\n",
       "AAT             25   0.0         0.0\n",
       "ACA            162   0.0         0.0\n",
       "...            ...   ...         ...\n",
       "TTA             18   0.0         0.0\n",
       "TTC             17   1.0         0.0\n",
       "TTEND            6   0.0         0.0\n",
       "TTG             20   0.0         0.0\n",
       "TTT             14   0.0         0.0\n",
       "\n",
       "[87 rows x 3 columns]>"
      ]
     },
     "execution_count": 9,
     "metadata": {},
     "output_type": "execute_result"
    }
   ],
   "source": [
    "RSGA_grouped.head"
   ]
  },
  {
   "cell_type": "code",
   "execution_count": null,
   "metadata": {},
   "outputs": [],
   "source": []
  }
 ],
 "metadata": {
  "kernelspec": {
   "display_name": "Python 3",
   "language": "python",
   "name": "python3"
  },
  "language_info": {
   "codemirror_mode": {
    "name": "ipython",
    "version": 3
   },
   "file_extension": ".py",
   "mimetype": "text/x-python",
   "name": "python",
   "nbconvert_exporter": "python",
   "pygments_lexer": "ipython3",
   "version": "3.7.6"
  }
 },
 "nbformat": 4,
 "nbformat_minor": 2
}
